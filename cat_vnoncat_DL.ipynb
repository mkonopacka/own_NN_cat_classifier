{
 "cells": [
  {
   "cell_type": "markdown",
   "metadata": {},
   "source": [
    "# Implementation of L-layer neural network used to classify cat images"
   ]
  },
  {
   "cell_type": "markdown",
   "metadata": {},
   "source": [
    "## Setup"
   ]
  },
  {
   "cell_type": "code",
   "execution_count": 1,
   "metadata": {},
   "outputs": [],
   "source": [
    "import numpy as np\n",
    "import pandas as pd\n",
    "from tqdm import tqdm\n",
    "import h5py\n",
    "import matplotlib.pyplot as plt\n",
    "from collections import deque\n",
    "from functions import *\n",
    "%matplotlib inline\n",
    "\n",
    "CE = CrossEntropy()\n",
    "sigmoid = Sigmoid()\n",
    "relu = Relu()"
   ]
  },
  {
   "cell_type": "markdown",
   "metadata": {},
   "source": [
    "## Load data"
   ]
  },
  {
   "cell_type": "code",
   "execution_count": 2,
   "metadata": {},
   "outputs": [],
   "source": [
    "with h5py.File(\"data/train_catvnoncat.h5\", \"r\") as f:\n",
    "    train_set_x_orig = f[\"train_set_x\"][()]\n",
    "    train_set_y = f[\"train_set_y\"][()]\n",
    "\n",
    "with h5py.File(\"data/test_catvnoncat.h5\", \"r\") as f:\n",
    "    test_set_x_orig = f[\"test_set_x\"][()]\n",
    "    test_set_y = f[\"test_set_y\"][()]"
   ]
  },
  {
   "cell_type": "code",
   "execution_count": 3,
   "metadata": {},
   "outputs": [
    {
     "name": "stdout",
     "output_type": "stream",
     "text": [
      "train_set_x_orig.shape = (209, 64, 64, 3)\n",
      "train_set_y.shape = (209,)\n",
      "test_set_x_orig.shape = (50, 64, 64, 3)\n",
      "test_set_y.shape = (50,)\n"
     ]
    }
   ],
   "source": [
    "print(f\"{train_set_x_orig.shape = }\")\n",
    "print(f\"{train_set_y.shape = }\")\n",
    "print(f\"{test_set_x_orig.shape = }\")\n",
    "print(f\"{test_set_y.shape = }\")"
   ]
  },
  {
   "cell_type": "code",
   "execution_count": 4,
   "metadata": {},
   "outputs": [
    {
     "name": "stdout",
     "output_type": "stream",
     "text": [
      "y = 0\n"
     ]
    },
    {
     "data": {
      "image/png": "[encoded data removed]",
      "text/plain": [
       "<Figure size 432x288 with 1 Axes>"
      ]
     },
     "metadata": {
      "needs_background": "light"
     },
     "output_type": "display_data"
    }
   ],
   "source": [
    "index = 3\n",
    "plt.imshow(train_set_x_orig[index])\n",
    "print(f\"y = {train_set_y[index]}\")"
   ]
  },
  {
   "cell_type": "markdown",
   "metadata": {},
   "source": [
    "## Preprocess x datasets"
   ]
  },
  {
   "cell_type": "markdown",
   "metadata": {},
   "source": [
    "After preprocessing data shoud be organised into four 2-dimensional arrays:\n",
    "    \n",
    "- `train_set_x`: (12288, 209),\n",
    "- `test_set_x`: (12288, 50),\n",
    "- `train_set_y`: (1, 209),\n",
    "- `test_set_y`: (1, 50),\n",
    "\n",
    "where each value in x is between 0 and 1 and each in y is either 0 or 1."
   ]
  },
  {
   "cell_type": "code",
   "execution_count": 5,
   "metadata": {},
   "outputs": [
    {
     "name": "stdout",
     "output_type": "stream",
     "text": [
      "train_set_x.shape = (12288, 209)\n",
      "test_set_x.shape = (12288, 50)\n"
     ]
    }
   ],
   "source": [
    "nx = train_set_x_orig.shape[0]\n",
    "train_set_x = train_set_x_orig.reshape((nx,-1)).T # examples are columns\n",
    "nx = test_set_x_orig.shape[0]\n",
    "test_set_x = test_set_x_orig.reshape((nx,-1)).T\n",
    "print(f\"{train_set_x.shape = }\")\n",
    "print(f\"{test_set_x.shape = }\")"
   ]
  },
  {
   "cell_type": "code",
   "execution_count": 6,
   "metadata": {},
   "outputs": [],
   "source": [
    "train_set_x = train_set_x/255\n",
    "test_set_x = test_set_x/255"
   ]
  },
  {
   "cell_type": "code",
   "execution_count": 7,
   "metadata": {},
   "outputs": [],
   "source": [
    "train_set_y = train_set_y.reshape(1,-1)\n",
    "test_set_y = test_set_y.reshape(1,-1)"
   ]
  },
  {
   "cell_type": "code",
   "execution_count": 8,
   "metadata": {},
   "outputs": [
    {
     "name": "stdout",
     "output_type": "stream",
     "text": [
      "train_set_y.shape = (1, 209)\n",
      "test_set_y.shape = (1, 50)\n"
     ]
    }
   ],
   "source": [
    "print(f\"{train_set_y.shape = }\")\n",
    "print(f\"{test_set_y.shape = }\")"
   ]
  },
  {
   "cell_type": "markdown",
   "metadata": {},
   "source": [
    "# Build model"
   ]
  },
  {
   "cell_type": "markdown",
   "metadata": {},
   "source": [
    "Model has L hidden layers (customizable sizes) and uses ReLu activation function for all of them and then sigmoid for output layer."
   ]
  },
  {
   "cell_type": "markdown",
   "metadata": {},
   "source": [
    "### Building blocks"
   ]
  },
  {
   "cell_type": "code",
   "execution_count": 9,
   "metadata": {},
   "outputs": [],
   "source": [
    "def initialize_parameters(layer_sizes: list, seed: int = 0) -> dict:\n",
    "    \"\"\"Returns dictionary containing weights W1, ... WL and biases b1, ... bL of L-layer neural network.\n",
    "    Args:\n",
    "        layers_sizes: list containing number of units in each layer [n0, ... nL]\n",
    "        seed: number passed to np.random.seed before initialization of parameters\n",
    "    \"\"\"\n",
    "    np.random.seed(seed)\n",
    "    parameters = dict()\n",
    "    for i in range(1,len(layer_sizes)):\n",
    "        # W[l] has size n[l] x n[l-1] where n[0], ..., n[l] are sizes of layers starting from input layer X\n",
    "        parameters[f\"W{i}\"] = np.random.randn(layer_sizes[i], layer_sizes[i-1]) * 0.01\n",
    "        parameters[f\"b{i}\"] = np.zeros((layer_sizes[i],1))\n",
    "    return parameters"
   ]
  },
  {
   "cell_type": "code",
   "execution_count": 10,
   "metadata": {},
   "outputs": [],
   "source": [
    "def forward_prop(X: np.ndarray, parameters: dict[str, np.ndarray], activations: list[Function]) -> dict[str,np.ndarray]:\n",
    "    \"\"\"Returns dict containing computed values of A1, ... AL and Z1, ... ZL given current parameters and the data.\n",
    "    \n",
    "    Note: lists has L+1 elements and the first element (i=0) is a dummy element used to allow for use of the same indices\n",
    "    corresponding to layers 1, ... L as in python list (0), 1, ... L.\n",
    "    \n",
    "    Args:\n",
    "        X: array of size (nx, m) with training data\n",
    "        parameters: dict containing keys W1, ..., WL, b1, ... bL for model's parameters\n",
    "        activations: list with functions used as activation for each layer\n",
    "    \"\"\"\n",
    "    if len(activations) != len(layer_sizes):\n",
    "        raise ValueError(f\"{len(layer_sizes) = } != {len(activations)}, they should be equal!\")\n",
    "    \n",
    "    A_lst = [X]\n",
    "    Z_lst = [np.nan] # dummy\n",
    "    for i in range(1,len(activations)):\n",
    "        Wi = parameters[f\"W{i}\"]\n",
    "        bi = parameters[f\"b{i}\"]\n",
    "        Zi = Wi @ A_lst[i-1] + bi\n",
    "        Ai = activations[i](Zi)\n",
    "        Z_lst.append(Zi)\n",
    "        A_lst.append(Ai)\n",
    "    return {\"A_lst\": A_lst, \"Z_lst\": Z_lst}"
   ]
  },
  {
   "cell_type": "code",
   "execution_count": 11,
   "metadata": {},
   "outputs": [],
   "source": [
    "def backward_prop(\n",
    "    Y: np.ndarray, parameters: dict, activations: list[Function],\n",
    "    A_lst: list[np.ndarray], Z_lst: list[np.ndarray]) -> dict[str, np.ndarray]:\n",
    "    \"\"\"Implementation of backpropagation part of nn. Returns dict containing derivatives of parameters.\n",
    "    \n",
    "    Args:\n",
    "        Y: array of size (1,m) with response variable \n",
    "        parameters: dict containing weights W1, ... WL and biases b1, ... bL\n",
    "        activations: list of L+1 activation functions, where the last element is activation of output layer\n",
    "        A_lst: list of cached A values computed during forward propagation\n",
    "        Z_lst: list of cached Z values computed during forward propagation\n",
    "    \"\"\"\n",
    "    m = Y.shape[1]\n",
    "    L = len(activations)-1\n",
    "    # TODO Change lists to deque?\n",
    "    # Note: There are L+1 elements because i = 0 is dummy element that allows for use of the same indices\n",
    "    # corresponding to layers 1 ... L as in python list (0,) 1, ... L.\n",
    "    dA_lst = [np.nan]*(L+1)\n",
    "    dZ_lst = [np.nan]*(L+1)\n",
    "    dW_lst = [np.nan]*(L+1)\n",
    "    db_lst= [np.nan]*(L+1)\n",
    "    AL = A_lst[-1]\n",
    "    assert np.array_equal(AL, A_lst[L]) # This is here to emphasise the difference in numbering\n",
    "    dA_lst[-1] = activations[-1].get_derivative(AL) # TODO good args order? Maybe should pass Y as \n",
    "    for s in range(L):\n",
    "        # Compute values in i-th layer for i = L, L-1, ... 1\n",
    "        i = L-s\n",
    "        dAi = dA_lst[i]\n",
    "        Zi = Z_lst[i]\n",
    "        dZi = dAi * activations[i].get_derivative(Zi)\n",
    "        Wi = parameters[f\"W{i}\"]\n",
    "        dWi = (1/m)*(dZi @ A_lst[i-1].T)\n",
    "        dbi = (1/m)*np.sum(dZi, axis = 1, keepdims=True)\n",
    "        dAi_minus_1 = Wi.T @ dZi\n",
    "        # Assert shapes\n",
    "        assert dZi.shape == Zi.shape\n",
    "        assert dWi.shape == Wi.shape\n",
    "        assert dbi.shape == parameters[f\"b{i}\"].shape\n",
    "        assert dAi_minus_1.shape == A_lst[i-1].shape\n",
    "        # Append computed values to relevant lists\n",
    "        dZ_lst[i] = dZi\n",
    "        dW_lst[i] = dWi\n",
    "        db_lst[i] = dbi\n",
    "        dA_lst[i-1] = dAi_minus_1\n",
    "\n",
    "    # There should be as many gradients as hidden layers.\n",
    "    assert len(db_lst) == L+1\n",
    "    assert len(dW_lst) == L+1\n",
    "    assert np.isnan(db_lst[0])\n",
    "    assert np.isnan(dW_lst[0]) # check dummies\n",
    "    # Combine lists into dictionary of gradients.\n",
    "    grads = {}\n",
    "    for i in range(1,L+1):\n",
    "        grads[f\"dW{i}\"] = dW_lst[i]\n",
    "        grads[f\"db{i}\"] = db_lst[i]\n",
    "    assert len(parameters) == len(grads)\n",
    "    return grads"
   ]
  },
  {
   "cell_type": "code",
   "execution_count": 12,
   "metadata": {},
   "outputs": [],
   "source": [
    "def update_parameters(parameters: dict[str,np.ndarray], gradients:dict[str,np.ndarray], learning_rate: float):\n",
    "    \"\"\"Return updated parameters so that for each var = var - `learning_rate` * dvar.\n",
    "    \n",
    "    Implements basic version of gradient descent.\n",
    "    Args:\n",
    "        parameters: ...\n",
    "        gradients: ...\n",
    "        learning_rate: ...\n",
    "    \"\"\"\n",
    "    new_parameters = dict()\n",
    "    for var, value in parameters.items():\n",
    "        dvar = gradients[f\"d{var}\"]\n",
    "        assert dvar.shape == value.shape # arrays should have the same size as their gradients \n",
    "        new_parameters[var] = value - learning_rate * dvar\n",
    "    return new_parameters"
   ]
  },
  {
   "cell_type": "markdown",
   "metadata": {},
   "source": [
    "### Model"
   ]
  },
  {
   "cell_type": "code",
   "execution_count": 19,
   "metadata": {},
   "outputs": [],
   "source": [
    "class NN:\n",
    "    def __init__(self, layer_sizes: list[int], cost_function: Function, activations: list[Function]):\n",
    "        \"\"\"Initialize Neural Network without any fitted parameters.\n",
    "        \n",
    "        Args:\n",
    "            layer_sizes: list containing number of units in each layer [n0, ... nL]\n",
    "            cost_function: function of response Y_ and prediction Y (in this order)\n",
    "            activations: list of L+1 functions used as activation for each layer\n",
    "        \"\"\"\n",
    "        # TODO add assert for sizes\n",
    "        self.layer_sizes = layer_sizes\n",
    "        self.cost_function = cost_function\n",
    "        self.activations = activations\n",
    "        self.cost_history = []\n",
    "        self.fitted_parameters = {}\n",
    "\n",
    "    def fit(self, X: np.ndarray, Y: np.ndarray, alpha: float = 0.01, T: int = 100, print_cost: bool = True, seed: int = -1) -> None:\n",
    "        \"\"\"Fit model parameters to X and Y data.\n",
    "        \n",
    "        Args:\n",
    "            X: array of features used in training\n",
    "            Y: array of response variables\n",
    "            alpha: value of learning rate in gradient descent\n",
    "            T: number of iterations\n",
    "            print_cost: prints cost after each iteration\n",
    "            seed: seed passed to `initialize_parameters` (use value of -1 for random selection of seed)  \n",
    "        \"\"\"\n",
    "        if seed == -1:\n",
    "            seed = np.random.randint(100000)\n",
    "        parameters = initialize_parameters(self.layer_sizes, seed)\n",
    "        cost_history = []\n",
    "        L = len(self.layer_sizes) - 1\n",
    "        for i in tqdm(range(1,T+1), desc= \"Fitting model parameters.\"):\n",
    "            forward_results = forward_prop(X, parameters, self.activations)\n",
    "            A_lst, Z_lst = forward_results[\"A_lst\"], forward_results[\"Z_lst\"]\n",
    "            AL = A_lst[-1]\n",
    "            cost_history.append(self.cost_function(AL,Y))\n",
    "            if print_cost:\n",
    "                print(f\"{i}-th cost: {cost_history[-1]}\")\n",
    "            grads = backward_prop(Y, parameters, self.activations,A_lst, Z_lst)\n",
    "            parameters = update_parameters(parameters, grads, alpha)\n",
    "\n",
    "        # If everything is ok, save new parameters and cost history.\n",
    "        self.fitted_parameters = parameters\n",
    "        self.cost_history = np.array(cost_history)\n",
    "\n",
    "    def predict(self, X: np.ndarray) -> np.ndarray:\n",
    "        if len(self.fitted_parameters) == 0:\n",
    "            raise Exception(\"Parameters are not fitted yet.\")\n",
    "        else:\n",
    "            forward_results = forward_prop(X, self.fitted_parameters, self.activations)\n",
    "            AL = forward_results[\"A_lst\"][-1]\n",
    "            return AL # This is Y_hat\n",
    "\n",
    "    def plot_cost(self):\n",
    "        \"\"\"Show plot of most recent cost history.\"\"\"\n",
    "        plt.plot(self.cost_history)\n",
    "        plt.title(\"Training cost history\")\n",
    "        plt.grid()\n",
    "        plt.show()"
   ]
  },
  {
   "cell_type": "code",
   "execution_count": 21,
   "metadata": {},
   "outputs": [
    {
     "name": "stderr",
     "output_type": "stream",
     "text": [
      "Fitting model parameters.: 100%|██████████| 2500/2500 [00:17<00:00, 145.87it/s]\n"
     ]
    },
    {
     "name": "stdout",
     "output_type": "stream",
     "text": [
      "0.6931477726958\n"
     ]
    },
    {
     "data": {
      "image/png": "[encoded data removed]",
      "text/plain": [
       "<Figure size 432x288 with 1 Axes>"
      ]
     },
     "metadata": {
      "needs_background": "light"
     },
     "output_type": "display_data"
    }
   ],
   "source": [
    "X,Y = train_set_x, train_set_y\n",
    "layer_sizes = [12288, 20, 7, 5, 1]\n",
    "L = len(layer_sizes)\n",
    "activations = [*[relu]*(L-1), sigmoid]\n",
    "model = NN(layer_sizes, CE, activations)\n",
    "model.fit(X,Y, 0.0075, 2500, False, seed = 1)\n",
    "print(model.cost_history[0])\n",
    "model.plot_cost()"
   ]
  },
  {
   "cell_type": "markdown",
   "metadata": {},
   "source": [
    "## Results"
   ]
  },
  {
   "cell_type": "code",
   "execution_count": 17,
   "metadata": {},
   "outputs": [
    {
     "data": {
      "text/plain": [
       "(50,)"
      ]
     },
     "execution_count": 17,
     "metadata": {},
     "output_type": "execute_result"
    }
   ],
   "source": [
    "test_set_y.flatten().shape"
   ]
  },
  {
   "cell_type": "code",
   "execution_count": 18,
   "metadata": {},
   "outputs": [
    {
     "name": "stdout",
     "output_type": "stream",
     "text": [
      "Test set accuracy: 0.34\n"
     ]
    }
   ],
   "source": [
    "preds = model.predict(test_set_x)\n",
    "preds_df = pd.DataFrame({\"true\": test_set_y.flatten(), \"pred\": preds.flatten()})\n",
    "preds_df[\"good\"] = np.equal(preds_df[\"true\"], preds_df[\"pred\"] > 0.5)\n",
    "acc = preds_df[\"good\"].mean()\n",
    "print(f\"Test set accuracy: {acc}\")"
   ]
  }
 ],
 "metadata": {
  "interpreter": {
   "hash": "824dc94f4a21fb2b9b063d5374c6a5be71ea0704887dd3ffa4e3d703212d1775"
  },
  "kernelspec": {
   "display_name": "Python 3.9.12 ('hmm_dtw')",
   "language": "python",
   "name": "python3"
  },
  "language_info": {
   "codemirror_mode": {
    "name": "ipython",
    "version": 3
   },
   "file_extension": ".py",
   "mimetype": "text/x-python",
   "name": "python",
   "nbconvert_exporter": "python",
   "pygments_lexer": "ipython3",
   "version": "3.9.12"
  },
  "orig_nbformat": 4
 },
 "nbformat": 4,
 "nbformat_minor": 2
}
